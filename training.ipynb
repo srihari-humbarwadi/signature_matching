{
 "cells": [
  {
   "cell_type": "code",
   "execution_count": 1,
   "metadata": {},
   "outputs": [
    {
     "name": "stdout",
     "output_type": "stream",
     "text": [
      "TensorFlow 1.13.1\n"
     ]
    }
   ],
   "source": [
    "import os\n",
    "from tqdm import tqdm\n",
    "from glob import glob\n",
    "import tensorflow as tf\n",
    "import numpy as np\n",
    "import matplotlib.pyplot as plt\n",
    "from sklearn.metrics import classification_report, confusion_matrix, accuracy_score\n",
    "print('TensorFlow', tf.__version__)"
   ]
  },
  {
   "cell_type": "code",
   "execution_count": 2,
   "metadata": {},
   "outputs": [],
   "source": [
    "train_ids = {i:glob(f'signature_dataset/SIG-DS-II/{x}')[0] for i,x in enumerate(os.listdir('signature_dataset/SIG-DS-II/'))}\n",
    "train_image_counts = [len(os.listdir(train_ids[x])) for x in range(len(train_ids))]\n",
    "train_images = {ids:glob(x+'/*') for ids, x in train_ids.items()}"
   ]
  },
  {
   "cell_type": "markdown",
   "metadata": {},
   "source": [
    "## Some utility functions to preprocess images and make training examples"
   ]
  },
  {
   "cell_type": "code",
   "execution_count": 3,
   "metadata": {},
   "outputs": [],
   "source": [
    "def get_image(image_path, h=180, w=480):\n",
    "    '''returns image, pixels scaled [0-1]'''\n",
    "    img = np.array(tf.keras.preprocessing.image.load_img(image_path, target_size=(h, w), color_mode='grayscale'), dtype=np.float32)[:,:,None]\n",
    "    img /= 255.\n",
    "    return img\n",
    "\n",
    "def make_example(positive=None):\n",
    "    '''return pairs of images, similar if positive=True'''\n",
    "    left = None\n",
    "    y = None\n",
    "    right = np.random.randint(low=0, high=len(train_ids))\n",
    "    if positive:\n",
    "        y = 1\n",
    "        left = right\n",
    "    else:\n",
    "        y = 0\n",
    "        while True:\n",
    "            left = np.random.randint(low=0, high=len(train_ids))\n",
    "            if right != left:\n",
    "                break\n",
    "    right_image_idx = np.random.randint(low=0, high=train_image_counts[right])\n",
    "    left_image_idx = np.random.randint(low=0, high=train_image_counts[left])\n",
    "    right_image = get_image(train_images[right][right_image_idx])\n",
    "    left_image = get_image(train_images[left][left_image_idx])\n",
    "    \n",
    "    return right_image, left_image, y"
   ]
  },
  {
   "cell_type": "markdown",
   "metadata": {},
   "source": [
    "## Data generator to read files and prepare training batches on the fly"
   ]
  },
  {
   "cell_type": "code",
   "execution_count": 4,
   "metadata": {},
   "outputs": [],
   "source": [
    "class DataGenerator(tf.keras.utils.Sequence):\n",
    "    '''Generator'''\n",
    "    def __init__(self, batch_size, steps):\n",
    "        super(DataGenerator, self).__init__()\n",
    "        self.batch_size = batch_size\n",
    "        self.steps = steps\n",
    "    \n",
    "    def __len__(self):\n",
    "        return self.steps\n",
    "    \n",
    "    def __getitem__(self, idx):\n",
    "        np.random.seed(int.from_bytes(os.urandom(4), byteorder='little'))\n",
    "        batch_right = []\n",
    "        batch_left = []\n",
    "        batch_y = []\n",
    "        for i in range(self.batch_size):\n",
    "            positive = True if (i % 2 == 0) else False\n",
    "            right, left, label = make_example(positive=positive)\n",
    "            batch_right.append(right)\n",
    "            batch_left.append(left)\n",
    "            batch_y.append(label)\n",
    "            \n",
    "        batch_right = np.array(batch_right)\n",
    "        batch_left = np.array(batch_left)\n",
    "        batch_y = np.array(batch_y)\n",
    "        return (batch_right, batch_left), batch_y\n",
    "batch_size = 48\n",
    "train_generator = DataGenerator(batch_size=batch_size, steps=26600//batch_size)"
   ]
  },
  {
   "cell_type": "markdown",
   "metadata": {},
   "source": [
    "## Visualizing a positive example"
   ]
  },
  {
   "cell_type": "code",
   "execution_count": 14,
   "metadata": {},
   "outputs": [
    {
     "data": {
      "text/plain": [
       "<matplotlib.image.AxesImage at 0x7f3ce6c8e518>"
      ]
     },
     "execution_count": 14,
     "metadata": {},
     "output_type": "execute_result"
    },
    {
     "data": {
      "image/png": "[encoded data removed]",
      "text/plain": [
       "<Figure size 432x288 with 1 Axes>"
      ]
     },
     "metadata": {
      "needs_background": "light"
     },
     "output_type": "display_data"
    },
    {
     "data": {
      "image/png": "[encoded data removed]",
      "text/plain": [
       "<Figure size 432x288 with 1 Axes>"
      ]
     },
     "metadata": {
      "needs_background": "light"
     },
     "output_type": "display_data"
    }
   ],
   "source": [
    "test = train_generator.__getitem__(1)\n",
    "plt.imshow(test[0][0][2][:,:,0], cmap='gray')\n",
    "plt.figure()\n",
    "plt.imshow(test[0][1][2][:,:,0], cmap='gray')"
   ]
  },
  {
   "cell_type": "markdown",
   "metadata": {},
   "source": [
    "## Visualizing a negative example"
   ]
  },
  {
   "cell_type": "code",
   "execution_count": 25,
   "metadata": {},
   "outputs": [
    {
     "data": {
      "text/plain": [
       "<matplotlib.image.AxesImage at 0x7f3ce68f2cc0>"
      ]
     },
     "execution_count": 25,
     "metadata": {},
     "output_type": "execute_result"
    },
    {
     "data": {
      "image/png": "[encoded data removed]",
      "text/plain": [
       "<Figure size 432x288 with 1 Axes>"
      ]
     },
     "metadata": {
      "needs_background": "light"
     },
     "output_type": "display_data"
    },
    {
     "data": {
      "image/png": "[encoded data removed]",
      "text/plain": [
       "<Figure size 432x288 with 1 Axes>"
      ]
     },
     "metadata": {
      "needs_background": "light"
     },
     "output_type": "display_data"
    }
   ],
   "source": [
    "plt.imshow(test[0][0][1][:,:,0], cmap='gray')\n",
    "plt.figure()\n",
    "plt.imshow(test[0][1][1][:,:,0], cmap='gray')"
   ]
  },
  {
   "cell_type": "markdown",
   "metadata": {},
   "source": [
    "## Building the model"
   ]
  },
  {
   "cell_type": "code",
   "execution_count": 8,
   "metadata": {},
   "outputs": [],
   "source": [
    "def l2_distance(tensors):\n",
    "    x = tensors[0]\n",
    "    y = tensors[1]\n",
    "    distance = tf.sqrt(tf.reduce_sum(tf.square(x-y), axis=1, keepdims=True))\n",
    "    return distance\n",
    "\n",
    "def conv_block(x, n_filters, size, strides=1):\n",
    "    x = tf.keras.layers.Conv2D(filters=n_filters,\n",
    "               kernel_size=size,\n",
    "               padding='same',\n",
    "               strides=strides,\n",
    "               kernel_initializer='he_normal',\n",
    "               use_bias=False)(x)\n",
    "    x = tf.keras.layers.BatchNormalization()(x)\n",
    "    x = tf.keras.layers.ReLU()(x)\n",
    "    return x\n",
    "\n",
    "def residual_block(x, n_filters):\n",
    "    skip = x\n",
    "    x = conv_block(x, n_filters//2, 1)\n",
    "    x = conv_block(x, n_filters, 3)\n",
    "    x = tf.keras.layers.add([x, skip])\n",
    "    return x\n",
    "\n",
    "def base_model(H=180, W=480):\n",
    "    input_layer = tf.keras.layers.Input(shape=(H, W, 1))\n",
    "    x = conv_block(input_layer, 32, 3)\n",
    "    x = conv_block(x, 64, 3, strides=2)\n",
    "    x = residual_block(x, 64)\n",
    "    x = conv_block(x, 128, 3, strides=2)\n",
    "    x = residual_block(x, 128)\n",
    "    x = residual_block(x, 128)\n",
    "    x = conv_block(x, 256, 3, strides=2)\n",
    "    x = residual_block(x, 256)\n",
    "    x = residual_block(x, 256)\n",
    "    x = residual_block(x, 256)\n",
    "    x = residual_block(x, 256)\n",
    "    output_layer = tf.keras.layers.GlobalAveragePooling2D()(x)\n",
    "    model = tf.keras.Model(inputs=input_layer, outputs=output_layer, name='base_model')\n",
    "    return model   "
   ]
  },
  {
   "cell_type": "code",
   "execution_count": 9,
   "metadata": {},
   "outputs": [
    {
     "name": "stdout",
     "output_type": "stream",
     "text": [
      "WARNING:tensorflow:From /home/mia/tf-trt/lib/python3.6/site-packages/tensorflow/python/ops/resource_variable_ops.py:435: colocate_with (from tensorflow.python.framework.ops) is deprecated and will be removed in a future version.\n",
      "Instructions for updating:\n",
      "Colocations handled automatically by placer.\n",
      "__________________________________________________________________________________________________\n",
      "Layer (type)                    Output Shape         Param #     Connected to                     \n",
      "==================================================================================================\n",
      "right_image (InputLayer)        (None, 180, 480, 1)  0                                            \n",
      "__________________________________________________________________________________________________\n",
      "left_image (InputLayer)         (None, 180, 480, 1)  0                                            \n",
      "__________________________________________________________________________________________________\n",
      "base_model (Model)              (None, 256)          1892384     right_image[0][0]                \n",
      "                                                                 left_image[0][0]                 \n",
      "__________________________________________________________________________________________________\n",
      "l2_distance (Lambda)            (None, 1)            0           base_model[1][0]                 \n",
      "                                                                 base_model[2][0]                 \n",
      "==================================================================================================\n",
      "Total params: 1,892,384\n",
      "Trainable params: 1,887,392\n",
      "Non-trainable params: 4,992\n",
      "__________________________________________________________________________________________________\n"
     ]
    }
   ],
   "source": [
    "base = base_model()\n",
    "\n",
    "right_image = tf.keras.layers.Input(shape=(180, 480, 1), name='right_image')\n",
    "left_image = tf.keras.layers.Input(shape=(180, 480, 1), name='left_image')\n",
    "\n",
    "right_out = base(right_image)\n",
    "left_out = base(left_image)\n",
    "\n",
    "y = tf.keras.layers.Lambda(l2_distance, name='l2_distance')([right_out, left_out])\n",
    "model = tf.keras.Model(inputs=[right_image, left_image], outputs=y)\n",
    "model.load_weights('signature_weights.h5')\n",
    "model.summary()"
   ]
  },
  {
   "cell_type": "markdown",
   "metadata": {},
   "source": [
    "## Defining the loss function and accuracy metric"
   ]
  },
  {
   "cell_type": "code",
   "execution_count": 11,
   "metadata": {},
   "outputs": [],
   "source": [
    "def contrastive_loss(y_true, y_pred, m=1):\n",
    "    return (y_true) * tf.square(y_pred) + (1 - y_true) * tf.square(tf.maximum(0., m - y_pred))\n",
    "\n",
    "def accuracy(y_true, y_pred):\n",
    "    return tf.reduce_mean(tf.cast(tf.equal(y_true, tf.cast(y_pred < 0.5, dtype=tf.float32)), dtype=tf.float32))"
   ]
  },
  {
   "cell_type": "markdown",
   "metadata": {},
   "source": [
    "## Training the model"
   ]
  },
  {
   "cell_type": "code",
   "execution_count": 12,
   "metadata": {},
   "outputs": [
    {
     "name": "stdout",
     "output_type": "stream",
     "text": [
      "WARNING:tensorflow:From /home/mia/tf-trt/lib/python3.6/site-packages/tensorflow/python/ops/math_ops.py:3066: to_int32 (from tensorflow.python.ops.math_ops) is deprecated and will be removed in a future version.\n",
      "Instructions for updating:\n",
      "Use tf.cast instead.\n",
      "Epoch 1/10\n",
      "554/554 [==============================] - 319s 576ms/step - loss: 0.2032 - accuracy: 0.7477\n",
      "Epoch 2/10\n",
      "554/554 [==============================] - 323s 584ms/step - loss: 0.1593 - accuracy: 0.7921\n",
      "Epoch 3/10\n",
      "554/554 [==============================] - 323s 583ms/step - loss: 0.1545 - accuracy: 0.7996\n",
      "Epoch 4/10\n",
      "554/554 [==============================] - 328s 593ms/step - loss: 0.1488 - accuracy: 0.8107\n",
      "Epoch 5/10\n",
      "554/554 [==============================] - 333s 601ms/step - loss: 0.1469 - accuracy: 0.8181\n",
      "Epoch 6/10\n",
      "554/554 [==============================] - 349s 630ms/step - loss: 0.1407 - accuracy: 0.8263\n",
      "Epoch 7/10\n",
      "554/554 [==============================] - 337s 608ms/step - loss: 0.1413 - accuracy: 0.8262\n",
      "Epoch 8/10\n",
      "553/554 [============================>.] - ETA: 0s - loss: 0.1387 - accuracy: 0.8305Epoch 8/10\n",
      "554/554 [==============================] - 325s 587ms/step - loss: 0.1388 - accuracy: 0.8305\n",
      "Epoch 9/10\n",
      "554/554 [==============================] - 336s 606ms/step - loss: 0.1373 - accuracy: 0.8333\n",
      "Epoch 10/10\n",
      "554/554 [==============================] - 325s 588ms/step - loss: 0.1362 - accuracy: 0.8328\n"
     ]
    },
    {
     "data": {
      "text/plain": [
       "<tensorflow.python.keras.callbacks.History at 0x7f2b40503ac8>"
      ]
     },
     "execution_count": 12,
     "metadata": {},
     "output_type": "execute_result"
    }
   ],
   "source": [
    "p_model = tf.keras.utils.multi_gpu_model(model, 3)\n",
    "p_model.compile(loss=contrastive_loss, optimizer=tf.keras.optimizers.Adam(lr=1e-3), metrics=[accuracy])\n",
    "p_model.fit_generator(train_generator, epochs=10, workers=128, max_queue_size=500, use_multiprocessing=True)"
   ]
  },
  {
   "cell_type": "markdown",
   "metadata": {},
   "source": [
    "## Save the trained model weights"
   ]
  },
  {
   "cell_type": "code",
   "execution_count": 13,
   "metadata": {},
   "outputs": [],
   "source": [
    "model.save_weights('signature_weights.h5')"
   ]
  }
 ],
 "metadata": {
  "kernelspec": {
   "display_name": "Python 3",
   "language": "python",
   "name": "python3"
  },
  "language_info": {
   "codemirror_mode": {
    "name": "ipython",
    "version": 3
   },
   "file_extension": ".py",
   "mimetype": "text/x-python",
   "name": "python",
   "nbconvert_exporter": "python",
   "pygments_lexer": "ipython3",
   "version": "3.6.8"
  }
 },
 "nbformat": 4,
 "nbformat_minor": 2
}
